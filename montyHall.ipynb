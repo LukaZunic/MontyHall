{
 "cells": [
  {
   "cell_type": "markdown",
   "metadata": {},
   "source": [
    "<h1>Monty Hall algorithm in python3</h1>"
   ]
  },
  {
   "cell_type": "markdown",
   "metadata": {},
   "source": [
    "The syntax for translating the Monty Hall problem into python is as follows:\n",
    "           \n",
    "           - the number of test cases will be an input element\n",
    "           \n",
    "           - the switch variable will increase by 1 every time the door obtained by switching contains the prize\n",
    "           - analogously, the noSwitch variable is defined\n",
    "           \n",
    "           - the three doors will be represented by a list containing three bits e.g. [0,1,0]\n",
    "                   => each bit represents the truth value behind a door (index) containing a prize\n",
    "                   "
   ]
  },
  {
   "cell_type": "markdown",
   "metadata": {},
   "source": [
    "<b>Definition of each case</b>\n",
    "\n",
    "For each case we must determine:<br>\n",
    "\n",
    "    i)   a door with the prize (using random)\n",
    "    ii)  a door picked by the contestant \n",
    "    iii) a door with the value 0 to be removed\n",
    " \n",
    "Note: iii) is not necessary, it is defined only to get a one to one traslation from problem to code,\n",
    "      in fact it is not used after being defined\n",
    "    "
   ]
  },
  {
   "cell_type": "code",
   "execution_count": 2,
   "metadata": {},
   "outputs": [],
   "source": [
    "import random\n",
    "import numpy as np\n",
    "\n",
    "import matplotlib.pyplot as plt\n",
    "import matplotlib.patches as mpatches\n",
    "from mpl_toolkits.mplot3d import Axes3D\n",
    "\n",
    "def MontyHall(numOfCases):\n",
    "    switch = 0\n",
    "    noSwitch = 0\n",
    "\n",
    "    s = []; ns = []; # used for plotting\n",
    "\n",
    "    for case in range(numOfCases):\n",
    "\n",
    "        doors = np.array([0,0,0]) #reverting everything back to the start\n",
    "\n",
    "        prizeDoor = random.randint(0,2) # i)\n",
    "        doors[prizeDoor] = 1    \n",
    "\n",
    "        choiceDoor = random.randint(0,2) # ii)\n",
    "\n",
    "        removeDoor = random.choice([i for i in range(3) if doors[i] == 0 and i != choiceDoor]) # iii)\n",
    "\n",
    "        if doors[choiceDoor] == 1:\n",
    "            noSwitch += 1\n",
    "        else:\n",
    "            switch += 1\n",
    "\n",
    "        s.append(switch)\n",
    "        ns.append(noSwitch)\n",
    "\n",
    "    print('switch : ' , switch)\n",
    "    print('noSwitch : ', noSwitch)\n",
    "    \n",
    "    n = [i for i in range(numOfCases)]\n",
    "\n",
    "    plt.plot(s, n)\n",
    "    plt.plot(ns, n)\n",
    "    \n",
    "    plt.xlabel('cases')\n",
    "\n",
    "    plt.plot(s,n, label=\"switch\")\n",
    "    plt.plot(ns,n, label=\"noSwitch\")\n",
    "\n",
    "    plt.legend(bbox_to_anchor=(1.05, 1), loc='upper left', borderaxespad=0.)\n",
    "    plt.show()\n",
    "    \n",
    "   \n",
    "\n"
   ]
  },
  {
   "cell_type": "markdown",
   "metadata": {},
   "source": [
    "We can dynamically plot the data depending on the input using matplotlib:"
   ]
  },
  {
   "cell_type": "code",
   "execution_count": 3,
   "metadata": {
    "scrolled": true
   },
   "outputs": [
    {
     "name": "stdout",
     "output_type": "stream",
     "text": [
      "Input number of cases500000\n",
      "switch :  333471\n",
      "noSwitch :  166529\n"
     ]
    },
    {
     "data": {
      "image/png": "[encoded data removed]",
      "text/plain": [
       "<Figure size 432x288 with 1 Axes>"
      ]
     },
     "metadata": {
      "needs_background": "light"
     },
     "output_type": "display_data"
    }
   ],
   "source": [
    "numOfCases = int(input('Input number of cases '))\n",
    "\n",
    "MontyHall(numOfCases)"
   ]
  },
  {
   "cell_type": "markdown",
   "metadata": {},
   "source": [
    "This simulation supports the claim that switching the doors gives you a 66.6% chance of choosing correctly."
   ]
  }
 ],
 "metadata": {
  "kernelspec": {
   "display_name": "Python 3",
   "language": "python",
   "name": "python3"
  },
  "language_info": {
   "codemirror_mode": {
    "name": "ipython",
    "version": 3
   },
   "file_extension": ".py",
   "mimetype": "text/x-python",
   "name": "python",
   "nbconvert_exporter": "python",
   "pygments_lexer": "ipython3",
   "version": "3.7.3"
  }
 },
 "nbformat": 4,
 "nbformat_minor": 2
}
